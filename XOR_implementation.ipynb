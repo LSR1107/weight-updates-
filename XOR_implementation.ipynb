{
  "nbformat": 4,
  "nbformat_minor": 0,
  "metadata": {
    "colab": {
      "provenance": []
    },
    "kernelspec": {
      "name": "python3",
      "display_name": "Python 3"
    },
    "language_info": {
      "name": "python"
    }
  },
  "cells": [
    {
      "cell_type": "code",
      "source": [
        "import numpy as np\n",
        "\n",
        "def unitStep(v):\n",
        "    return 1 if v >= 0 else 0\n",
        "\n",
        "def perceptronModel(x, w, b):\n",
        "    v = np.dot(w, x) + b\n",
        "    return unitStep(v)\n",
        "\n",
        "def NOT_logicfunction(x):\n",
        "    wNOT = np.array([-0.8])\n",
        "    bNOT = 0.5\n",
        "    return perceptronModel(x, wNOT, bNOT)\n",
        "\n",
        "def AND_logicFunction(x):\n",
        "    w = np.array([0.9, 0.9])\n",
        "    b = -1.5\n",
        "    return perceptronModel(x, w, b)\n",
        "\n",
        "def OR_logicFunction(x):\n",
        "    w = np.array([0.9, 0.9])\n",
        "    b = -0.5\n",
        "    return perceptronModel(x, w, b)\n",
        "\n",
        "def XOR_logicFunction(x):\n",
        "    y1 = AND_logicFunction(x)\n",
        "    y2 = OR_logicFunction(x)\n",
        "    y3 = NOT_logicfunction(y1)\n",
        "    final_x = np.array([y2, y3])\n",
        "    finalOutput = AND_logicFunction(final_x)\n",
        "    return finalOutput\n",
        "\n",
        "def train_perceptron(X, y, w, b, learning_rate=0.1, epochs=1000):\n",
        "    num_features = X.shape[1]\n",
        "    ww = w.copy()\n",
        "    bb = b\n",
        "\n",
        "    for _ in range(epochs):\n",
        "        for i in range(len(X)):\n",
        "            output = perceptronModel(X[i], ww, bb)\n",
        "            error = y[i] - output\n",
        "            ww += learning_rate * error * X[i]\n",
        "            bb += learning_rate * error\n",
        "\n",
        "    return ww, bb\n",
        "\n",
        "x_NOT = np.array([[0], [1]])\n",
        "y_NOT = np.array([1, 0])\n",
        "wNOT, bNOT = train_perceptron(x_NOT, y_NOT, np.array([-0.8]), 0.5)\n",
        "\n",
        "x_AND = np.array([[0, 0], [0, 1], [1, 0], [1, 1]])\n",
        "y_AND = np.array([0, 0, 0, 1])\n",
        "wAND, bAND = train_perceptron(x_AND, y_AND, np.array([0.9, 0.9]), -1.5)\n",
        "\n",
        "x_OR = np.array([[0, 0], [0, 1], [1, 0], [1, 1]])\n",
        "y_OR = np.array([0, 1, 1, 1])\n",
        "wOR, bOR = train_perceptron(x_OR, y_OR, np.array([0.9, 0.9]), -0.5)\n",
        "\n",
        "test1 = np.array([0, 1])\n",
        "test2 = np.array([1, 1])\n",
        "test3 = np.array([0, 0])\n",
        "test4 = np.array([1, 0])\n",
        "\n",
        "print(\"XOR({}, {}) = {}\".format(0, 1, XOR_logicFunction(test1)))\n",
        "print(\"XOR({}, {}) = {}\".format(1, 1, XOR_logicFunction(test2)))\n",
        "print(\"XOR({}, {}) = {}\".format(0, 0, XOR_logicFunction(test3)))\n",
        "print(\"XOR({}, {}) = {}\".format(1, 0, XOR_logicFunction(test4)))\n"
      ],
      "metadata": {
        "colab": {
          "base_uri": "https://localhost:8080/"
        },
        "id": "zM2ISTl6IdrW",
        "outputId": "9deed7b6-2612-44ec-f9a2-e738d8e51465"
      },
      "execution_count": 1,
      "outputs": [
        {
          "output_type": "stream",
          "name": "stdout",
          "text": [
            "XOR(0, 1) = 1\n",
            "XOR(1, 1) = 0\n",
            "XOR(0, 0) = 0\n",
            "XOR(1, 0) = 1\n"
          ]
        }
      ]
    },
    {
      "cell_type": "code",
      "source": [],
      "metadata": {
        "id": "I98ImVk3OIFj"
      },
      "execution_count": null,
      "outputs": []
    }
  ]
}